{
 "cells": [
  {
   "cell_type": "markdown",
   "metadata": {},
   "source": [
    "# 1. Accessing Twitter API\n",
    "### Elisabeth Earley"
   ]
  },
  {
   "cell_type": "code",
   "execution_count": 1,
   "metadata": {
    "collapsed": true
   },
   "outputs": [],
   "source": [
    "#Import required packages\n",
    "import tweepy\n",
    "import json\n",
    "import csv\n",
    "import pandas as pd\n",
    "import datetime\n",
    "import time"
   ]
  },
  {
   "cell_type": "code",
   "execution_count": 85,
   "metadata": {},
   "outputs": [
    {
     "name": "stdout",
     "output_type": "stream",
     "text": [
      "Last run: 2018-04-23 00:00:00\n"
     ]
    }
   ],
   "source": [
    "print(\"Last run: \" + str(pd.to_datetime('today')))"
   ]
  },
  {
   "cell_type": "code",
   "execution_count": 2,
   "metadata": {
    "collapsed": true
   },
   "outputs": [],
   "source": [
    "#authorize my app to begin using the API!\n",
    "access_token = 'XXX'\n",
    "access_token_secret = 'XXX'\n",
    "consumer_key = 'XXX'\n",
    "consumer_secret = 'XXX'\n",
    "\n",
    "\n",
    "auth = tweepy.OAuthHandler(consumer_key, consumer_secret)\n",
    "auth.set_access_token(access_token, access_token_secret)\n",
    "\n",
    "API = tweepy.API(auth, wait_on_rate_limit=True, wait_on_rate_limit_notify=True) #waiting on rate limit automatically sleeps\n",
    "                                                                                #the system (15 mins) when rate limit has been \n",
    "                                                                                #reached."
   ]
  },
  {
   "cell_type": "code",
   "execution_count": 4,
   "metadata": {
    "collapsed": true
   },
   "outputs": [],
   "source": [
    "#create dictionary of Colombian elites and their real name + username\n",
    "elites = {'Alvaro Uribe Velez':'@AlvaroUribeVel', 'Sergio Fajardo':'@sergio_fajardo', \\\n",
    "'Gustavo Petro':'@petrogustavo', 'Ivan Duque Marquez':'@IvanDuque', 'German Vargas Lleras':'@German_Vargas', \\\n",
    "'Juan Manuel Santos':'@juanmansantos', 'Humberto de la Calle':'@DeLaCalleHum'}\n",
    "names = elites.keys()  #just their real names\n",
    "handles = elites.values() #just their twitter usernames"
   ]
  },
  {
   "cell_type": "code",
   "execution_count": 5,
   "metadata": {
    "collapsed": true
   },
   "outputs": [],
   "source": [
    "#create a profile for each elite that contains all their user information\n",
    "\n",
    "profiles = {}\n",
    "for user in elites:\n",
    "    profiles[user] = API.get_user(elites[user])"
   ]
  },
  {
   "cell_type": "markdown",
   "metadata": {},
   "source": [
    "# A) Elite \"followers\"\n",
    "[Still under construction...each candidate can hve up to 5 million followers. I can only\n",
    "grab 5000 ID's at a time and can only use those ID's to pull profiles 900 at at time. It would take 13 days to process 1 million followers. Pulling profiles directly can only be done 200 at a time which would take 52 days for 1 million followers.]\n",
    "### Saving for future use!"
   ]
  },
  {
   "cell_type": "code",
   "execution_count": 6,
   "metadata": {
    "collapsed": true
   },
   "outputs": [],
   "source": [
    "follow_id_dict = {}\n",
    "for user in elites:\n",
    "    follow_id_dict[user] = API.followers_ids(elites[user], cursor=-1, count=5000)\n",
    "    "
   ]
  },
  {
   "cell_type": "markdown",
   "metadata": {},
   "source": [
    "Example of ID list. From the above loop, each candidate has 5000 follower IDs in their list."
   ]
  },
  {
   "cell_type": "code",
   "execution_count": 47,
   "metadata": {
    "scrolled": false
   },
   "outputs": [
    {
     "name": "stdout",
     "output_type": "stream",
     "text": [
      "[988687871673622528, 988687996529598465, 988687296227692544, 988686975950639104, 139164299, 986464756117725185, 804570031, 988526901089177600, 443798852, 988685213768265728, 742544146599170048, 519745004, 2364116309, 943322239251906560, 113583414, 988680121124052992, 1058936515, 988677731901636608, 184560506, 988672139120214017]\n"
     ]
    }
   ],
   "source": [
    "print((follow_id_dict['Gustavo Petro'][0][:20]))"
   ]
  },
  {
   "cell_type": "markdown",
   "metadata": {},
   "source": [
    "# B) Elite \"followings\" (aka \"friends\")\n",
    "1. Gather ID #'s for the accounts that each elite is following \n",
    "2. Use ID's to quickly pull user information\n",
    "3. Save id, name, screen_name, location, created_at, friends_count, followers_count into csv for each elite"
   ]
  },
  {
   "cell_type": "code",
   "execution_count": 7,
   "metadata": {
    "collapsed": true
   },
   "outputs": [],
   "source": [
    "friend_id_dict = {}\n",
    "for user in elites:\n",
    "    friend_id_dict[user] = API.friends_ids(elites[user])\n",
    "    \n",
    "#Create a dictionary for the total list of 'friends' IDs, where each elite has their own list."
   ]
  },
  {
   "cell_type": "code",
   "execution_count": null,
   "metadata": {
    "collapsed": true
   },
   "outputs": [],
   "source": [
    "#These are the numbers of IDs that we should be pulling. More for some than others.\n",
    "for name in names:\n",
    "    print(\"Total friends for: \" + name)\n",
    "    print(profiles[name].friends_count)\n",
    "    print('\\n')\n",
    "    "
   ]
  },
  {
   "cell_type": "markdown",
   "metadata": {},
   "source": [
    "### Create function that downloads specific variables from each 'friend's' profile, writing the data into a csv file\n",
    "**Expected time: 2.64 hours**\n",
    "\n",
    "1. Create empty dictionary to store an empty list for every elite.\n",
    "2. Create an empty csv ('friends.csv') in sublime to avoid the meta-data created by opening a new file in excel.\n",
    "3. Using empty csv and encoding in utf-8 to avoid the loop breaking due to emojis, create columns for the variables i'm interested in taking from each 'friend'\n",
    "4. Loops through the ID numbers for each elite's friends list and grabs the 'friend' profile\n",
    "5. Allow the loop to append 'friend' profiles to the respective empty list within the main dictionary (userlist)\n",
    "6. Create a dictionary holding each column's information (row_dict)\n",
    "7. Allow the csv to be written using the row_dict data "
   ]
  },
  {
   "cell_type": "code",
   "execution_count": 8,
   "metadata": {
    "collapsed": true
   },
   "outputs": [
    {
     "name": "stdout",
     "output_type": "stream",
     "text": [
      "Alvaro Uribe Velez 959979685844324352\n",
      "Alvaro Uribe Velez 188794797\n",
      "Alvaro Uribe Velez 444864072\n",
      "Alvaro Uribe Velez 235307099\n",
      "Alvaro Uribe Velez 924605888\n"
     ]
    },
    {
     "name": "stdout",
     "output_type": "stream",
     "text": [
      "Alvaro Uribe Velez 138235377\n",
      "Alvaro Uribe Velez 48105688\n",
      "Alvaro Uribe Velez 702228317202751488\n",
      "Alvaro Uribe Velez 189305014\n",
      "Alvaro Uribe Velez 540894368\n"
     ]
    },
    {
     "name": "stdout",
     "output_type": "stream",
     "text": [
      "Alvaro Uribe Velez 58977300\n",
      "Alvaro Uribe Velez 30861738\n",
      "Alvaro Uribe Velez 275669169\n",
      "Alvaro Uribe Velez 314907522\n",
      "Alvaro Uribe Velez 2953203339\n"
     ]
    },
    {
     "name": "stdout",
     "output_type": "stream",
     "text": [
      "Alvaro Uribe Velez 2196442651\n",
      "Alvaro Uribe Velez 209134275\n",
      "Alvaro Uribe Velez 4573732999\n",
      "Alvaro Uribe Velez 632417584\n",
      "Alvaro Uribe Velez 580993736\n"
     ]
    },
    {
     "name": "stderr",
     "output_type": "stream",
     "text": [
      "Rate limit reached. Sleeping for: 718\n"
     ]
    },
    {
     "name": "stdout",
     "output_type": "stream",
     "text": [
      "Alvaro Uribe Velez 33995343\n",
      "Alvaro Uribe Velez 15248067\n",
      "Alvaro Uribe Velez 14401149\n"
     ]
    },
    {
     "name": "stdout",
     "output_type": "stream",
     "text": [
      "Sergio Fajardo 48047186\n",
      "Sergio Fajardo 823518894182846464\n",
      "Sergio Fajardo 38508530\n",
      "Sergio Fajardo 392394776\n"
     ]
    },
    {
     "name": "stderr",
     "output_type": "stream",
     "text": [
      "Rate limit reached. Sleeping for: 696\n"
     ]
    },
    {
     "name": "stdout",
     "output_type": "stream",
     "text": [
      "Gustavo Petro 2688286646\n",
      "Gustavo Petro 3368201829\n",
      "Gustavo Petro 150460030\n",
      "Gustavo Petro 2935805182\n"
     ]
    },
    {
     "name": "stderr",
     "output_type": "stream",
     "text": [
      "Rate limit reached. Sleeping for: 712\n"
     ]
    },
    {
     "name": "stdout",
     "output_type": "stream",
     "text": [
      "Gustavo Petro 184590625\n",
      "Gustavo Petro 157034349\n",
      "Gustavo Petro 963229003\n"
     ]
    },
    {
     "name": "stdout",
     "output_type": "stream",
     "text": [
      "Ivan Duque Marquez 905250199\n",
      "Ivan Duque Marquez 15246621\n",
      "Ivan Duque Marquez 366907915\n"
     ]
    },
    {
     "name": "stderr",
     "output_type": "stream",
     "text": [
      "Rate limit reached. Sleeping for: 707\n"
     ]
    },
    {
     "name": "stdout",
     "output_type": "stream",
     "text": [
      "Ivan Duque Marquez 269919164\n",
      "Ivan Duque Marquez 188787847\n",
      "Ivan Duque Marquez 148078549\n"
     ]
    },
    {
     "name": "stdout",
     "output_type": "stream",
     "text": [
      "Ivan Duque Marquez 107225267\n",
      "Ivan Duque Marquez 15125585\n",
      "Ivan Duque Marquez 116994659\n"
     ]
    },
    {
     "name": "stderr",
     "output_type": "stream",
     "text": [
      "Rate limit reached. Sleeping for: 730\n"
     ]
    },
    {
     "name": "stdout",
     "output_type": "stream",
     "text": [
      "Ivan Duque Marquez 854291\n",
      "Ivan Duque Marquez 295779307\n",
      "Ivan Duque Marquez 9572932\n"
     ]
    },
    {
     "name": "stdout",
     "output_type": "stream",
     "text": [
      "German Vargas Lleras 300815030\n",
      "German Vargas Lleras 2400080066\n",
      "German Vargas Lleras 231803432\n",
      "German Vargas Lleras 14050583\n",
      "German Vargas Lleras 135321834\n"
     ]
    },
    {
     "name": "stderr",
     "output_type": "stream",
     "text": [
      "Rate limit reached. Sleeping for: 718\n"
     ]
    },
    {
     "name": "stdout",
     "output_type": "stream",
     "text": [
      "Juan Manuel Santos 286441121\n",
      "Juan Manuel Santos 1132257020\n",
      "Juan Manuel Santos 58244743\n"
     ]
    },
    {
     "name": "stdout",
     "output_type": "stream",
     "text": [
      "Humberto de la Calle 383579991\n",
      "Humberto de la Calle 102171561\n",
      "Humberto de la Calle 147705809\n",
      "Humberto de la Calle 101736223\n"
     ]
    }
   ],
   "source": [
    "userlist = {}\n",
    "with open('friends.csv', 'w', encoding='utf-8') as csvfile:\n",
    "    fieldnames = ['elite', 'id', 'name', 'screen_name', 'location', 'created_at', 'friends_count', 'followers_count']\n",
    "    writer = csv.DictWriter(csvfile, fieldnames=fieldnames)\n",
    "    writer.writeheader()\n",
    "    \n",
    "    for name in list(elites.keys()):\n",
    "        userlist[name] = []\n",
    "        for id_no in friend_id_dict[name]:\n",
    "            print(name, id_no)\n",
    "            friend_data = API.get_user(id_no)\n",
    "            userlist[name].append(friend_data)\n",
    "            row_dict = {}\n",
    "            row_dict['elite'] = name\n",
    "            row_dict['id'] = id_no\n",
    "            row_dict['name'] = friend_data.name\n",
    "            row_dict['screen_name'] = friend_data.screen_name\n",
    "            row_dict['location'] = friend_data.location\n",
    "            row_dict['created_at'] = friend_data.created_at\n",
    "            row_dict['friends_count'] = friend_data.friends_count\n",
    "            row_dict['followers_count'] = friend_data.followers_count\n",
    "            writer.writerow(row_dict)\n",
    "        "
   ]
  },
  {
   "cell_type": "code",
   "execution_count": 43,
   "metadata": {
    "collapsed": true
   },
   "outputs": [
    {
     "name": "stdout",
     "output_type": "stream",
     "text": [
      "location location\n",
      "Barbosa, Colombia Barbosa, Colombia\n",
      "Colombia, Panamá y USA Colombia, Panama y USA\n",
      "Universidad de los Andes Universidad de los Andes\n",
      "Bogotá, DC, Colombia Bogota, DC, Colombia\n",
      "Bogotá, D.C., Colombia Bogota, D.C., Colombia\n",
      "Armenia, Colombia Armenia, Colombia\n",
      " \n",
      "Bogotá, D.C. Colombia Bogota, D.C. Colombia\n",
      " \n",
      " \n",
      " \n",
      " \n",
      "Medellín Medellin\n",
      "Caracas, Venezuela Caracas, Venezuela\n",
      "Aguascalientes, México Aguascalientes, Mexico\n",
      " \n",
      "Medellín, Colombia Medellin, Colombia\n",
      "Bogotá, D.C., Colombia Bogota, D.C., Colombia\n",
      "Medellín, Colombia Medellin, Colombia\n",
      "Valle del Cauca, Colombia Valle del Cauca, Colombia\n",
      " \n",
      "Ibagué, Tolima Ibague, Tolima\n"
     ]
    },
    {
     "name": "stdout",
     "output_type": "stream",
     "text": [
      "New york-Italy-Mexico New york-Italy-Mexico\n",
      "Medellín, Colombia Medellin, Colombia\n",
      " \n",
      "Cali, Valle del Cauca Cali, Valle del Cauca\n",
      "Guatape, Colombia Guatape, Colombia\n",
      " \n",
      " \n",
      "Colombia Colombia\n",
      " \n",
      " \n",
      "BOGOTA D.C. - COLOMBIA BOGOTA D.C. - COLOMBIA\n",
      "Bogotá, Colombia Bogota, Colombia\n"
     ]
    }
   ],
   "source": [
    "#quick unicode data clean\n",
    "#I want to strip all accents from letters FIRST to avoid unicode errors going into R\n",
    "#locations were being interpreted into R as \"PopayÃ¡n, Colombia\", etc. \n",
    "\n",
    "import unidecode\n",
    "with open('friends_cleaned.csv', 'w', encoding='utf-8') as csvfile:\n",
    "    writer = csv.writer(csvfile, delimiter=',', quotechar='\"', quoting=csv.QUOTE_MINIMAL)\n",
    "    with open('friends.csv', 'r', encoding='utf-8') as friends:\n",
    "        reader = csv.reader(friends, delimiter=',', quotechar='\"')   #quotechar is needed so that the commas in the string don't\n",
    "        for row in reader:                                           #split the location into two. (e.g. \"Bogota, Colombia\")\n",
    "            if len(row) > 0:  #only run this function on non-missing data\n",
    "                location = row[4]\n",
    "                cleaned_location = unidecode.unidecode(location).strip('\"') #first removes accents, then removes \" \" in the csv\n",
    "                print(location, cleaned_location) #make sure it's working right by\n",
    "                new_row = list(row)               #printing old string and new string\n",
    "                new_row[4] = cleaned_location\n",
    "                writer.writerow(new_row)\n",
    "                \n",
    "            \n",
    "    \n"
   ]
  },
  {
   "cell_type": "markdown",
   "metadata": {},
   "source": [
    "### ...Time to move to data cleaning and visualization in R\n",
    "(After waiting 3 hours for the data collecting loop to run and write the csv all the way through! I ran mine overnight.)"
   ]
  },
  {
   "cell_type": "markdown",
   "metadata": {},
   "source": [
    "# C) Download tweets from time-windows\n",
    "### Saving for future use!"
   ]
  },
  {
   "cell_type": "code",
   "execution_count": 87,
   "metadata": {
    "collapsed": true
   },
   "outputs": [],
   "source": [
    "startDate_1 = datetime.datetime(2014, 5, 1, 0, 0, 0) #elections\n",
    "endDate_1 = datetime.datetime(2014, 8, 1, 0, 0, 0)\n",
    "\n",
    "startDate_2 = datetime.datetime(2016, 9, 1, 0, 0, 0) #Plebiscite vote on ratification\n",
    "endDate_2 = datetime.datetime(2016, 12, 31, 0, 0, 0)\n",
    "\n",
    "startDate_3 = datetime.datetime(2018, 3, 1, 0, 0, 0) #current elections\n",
    "endDate_3 = datetime.datetime(2018, 7, 1, 0, 0, 0)\n"
   ]
  },
  {
   "cell_type": "code",
   "execution_count": null,
   "metadata": {
    "collapsed": true
   },
   "outputs": [],
   "source": [
    "# for name in elites:\n",
    "#     tweepy.Cursor(API.user_timeline, elites[name])\n"
   ]
  },
  {
   "cell_type": "code",
   "execution_count": 55,
   "metadata": {
    "collapsed": true
   },
   "outputs": [],
   "source": [
    "#test_tweets = API.user_timeline(screen_name='IvanDuque', since_id=981697880766468097, count=20, tweet_mode='extended')"
   ]
  },
  {
   "cell_type": "code",
   "execution_count": 62,
   "metadata": {
    "collapsed": true
   },
   "outputs": [
    {
     "name": "stdout",
     "output_type": "stream",
     "text": [
      "Recent tweets:\n",
      "\n",
      "Está noche estaremos nuevamente en #PreguntaYamid en el canal @elunodetodos @CMILANOTICIA Acompáñanos! #DuqueEsElQueEs https://t.co/PbeCKQasyr\n",
      "\n",
      "RT @CMILANOTICIA: Hoy desde las 10:00 p. m. no te pierdas en #PreguntaYamid  la segunda parte de la entrevista al candidato presidencial @I…\n",
      "\n",
      "La economía no se recupera a base de impuestos, se recupera con un gobierno austero, que elimine el derroche y los gastos innecesarios, que piense en el ciudadano y permita mejorar la inversión y generar empleo formal #HotelElPradro #DuqueEsElQueEs https://t.co/0MIUqA6hw7\n",
      "\n",
      "Aquí está el segundo carnaval más grande de América Latina, donde el folclor y la cultura unen a todo un país. Barranquilla nos demuestra la importancia de apostarle a la economía naranja y a las industria creativas #HotelElPradro #DuqueEsElQueEs https://t.co/t4WLolIs33\n",
      "\n",
      "Vamos a llegar a la presidencia a defender la legalidad, a luchar contra la impunidad, contra la inseguridad, contra la prostitución infantil. En defensa de esa legalidad vamos a instaurar la cadena perpetua para violadores y asesinos de niños #HotelElPrado #DuqueEsElQueEs https://t.co/VPM0oKMQ5z\n",
      "\n",
      "Amigos de #Barranquilla, estamos a menos de 60 días de lograr el anhelo por el que venimos trabajado. Estoy seguro que, junto con @mluciaramirez y con el apoyo de ustedes, vamos a ganar la presidencia en la primera vuelta #HotelElPrado #DuqueConElCaribe https://t.co/e6JrAMuKbJ\n",
      "\n",
      "RT @IvanDuque: Con @mluciaramirez estamos muy agradecidos por el apoyo de una de las glorias del deporte colombiano, el gran beisbolista Ed…\n",
      "\n",
      "RT @JaimeAminH: Barranquilla acoge con afecto multitudinario y espontáneo a @IvanDuque Pdte y @mluciaramirez VPdte. https://t.co/jf8tSQMDg1\n",
      "\n",
      "En directo, desde Barranquilla junto a @mluciaramirez en encuentro con amigos y simpatizantes. https://t.co/CvAWXfAb58\n",
      "\n",
      "Vamos a darle la posibilidad a las empresas nacientes, que generen un mínimo de empleo, y desarrollen inversiones en sectores creativos, tecnológicos y de transformación productiva, que no paguen impuesto de renta en los primeros cinco años #DuqueConLosEstudiantes @UniversidadCUC https://t.co/QJjFBO3jUo\n",
      "\n",
      "El Icetex necesita una gran reforma. Debemos desarrollar programas de financiamiento sin codeudor, y que no se le empiece a cobrar al estudiante cuando haya terminado sus estudios, sino cuando consiga su primer empleo  #DuqueConLosEstudiantes\n",
      "@UniversidadCUC https://t.co/0ZFIQrRrkb\n",
      "\n",
      "En Barranquilla junto a @mluciaramirez compartimos nuestras principios de Gobierno: legalidad, emprendimiento y equidad, con los estudiantes y egresados de la @UniversidadCUC #DuqueConLosEstudiantes https://t.co/C7nmmS5OJH\n",
      "\n",
      "Con @mluciaramirez estamos muy agradecidos por el apoyo de una de las glorias del deporte colombiano, el gran beisbolista Edgar Rentería. Nos llena de entusiasmo contar con su respaldo y nos motiva a ‘sacarla del estadio’, el próximo 27 de mayo #DuqueEsElQueEs https://t.co/YVpEsD4WsG\n",
      "\n",
      "En directo con @Mluciaramirez en Barrranquilla, en La Universidad de La Costa dialogando con estudiantes. https://t.co/JmSul4uyDL\n",
      "\n",
      "Gracias a todos los organizadores del #DebateCaribe por este espacio para compartir nuestra visión de país. Gracias #Barranquilla @elheraldoco  @Camarabaq @AmChamCol @ANDI_Colombia y @ProBaq #DuqueConElCaribe #DuqueEsElQueEs https://t.co/OhH1hva0pQ\n",
      "\n",
      "#Barranquilla I Yo quiero ser el presidente de la visión de futuro, donde no nos quedemos en debates anacrónicos de izquierda y derecha, sino que miremos hacía adelante. Ese es el país que quiero que me acompañen a construir con determinación #DebateCaribe #DuqueConElCaribe https://t.co/p02UAXXqwP\n",
      "\n",
      "#Barranquilla Queremos construir un país de equidad con educación preescolar, jornada única, doble titulación y acceso gratuito a la universidad virtual y presencial para los más vulnerables, y un sistema de salud de calidad donde las EPS no abusen del ciudadano #DuqueConElCaribe https://t.co/jIWTgIpnJx\n",
      "\n",
      "#Barranquilla I Nuestra Costa Caribe y el país necesitan emprendimiento. Queremos una Colombia donde haya industrias creativas, energías renovables, agroindustria, turismo, ecoturismo, bioturismo, empleo y oportunidades para prosperar #DebateCaribe #DuqueConElCaribe https://t.co/ZSCIhRe9Jv\n",
      "\n",
      "#Barranquilla I Yo quiero ser el presidente de un país con legalidad, donde todo el que esté al margen de la ley tenga sanción, donde el ciudadano se sienta seguro en las calles y en el que podamos derrotar la corrupción #DebateCaribe #DuqueConElCaribe https://t.co/oMcLLqTyU3\n",
      "\n",
      "#Barranquilla I Como presidente ayudaré, en el escenario multilateral, a que caiga la dictadura de Maduro, y conformar un Plan Venezuela, con organismos internacionales y otros países, para permitir el regreso de los venezolanos y la recuperación de la economía #DuqueConElCaribe https://t.co/dAYoFnoJES\n",
      "\n"
     ]
    }
   ],
   "source": [
    "# print(\"Recent tweets:\\n\")\n",
    "# for tweet in test_tweets:\n",
    "#     print(tweet.full_text)\n",
    "#     print()"
   ]
  }
 ],
 "metadata": {
  "kernelspec": {
   "display_name": "Python 3",
   "language": "python",
   "name": "python3"
  },
  "language_info": {
   "codemirror_mode": {
    "name": "ipython",
    "version": 3
   },
   "file_extension": ".py",
   "mimetype": "text/x-python",
   "name": "python",
   "nbconvert_exporter": "python",
   "pygments_lexer": "ipython3",
   "version": "3.6.3"
  }
 },
 "nbformat": 4,
 "nbformat_minor": 1
}
